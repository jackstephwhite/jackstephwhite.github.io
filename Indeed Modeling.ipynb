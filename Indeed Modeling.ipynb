{
 "cells": [
  {
   "cell_type": "code",
   "execution_count": 1,
   "id": "ba3f9460",
   "metadata": {},
   "outputs": [],
   "source": [
    "import pandas as pd\n",
    "\n",
    "summary = pd.read_csv('data_scientist_jobs.csv')"
   ]
  },
  {
   "cell_type": "code",
   "execution_count": 2,
   "id": "adb05efc",
   "metadata": {},
   "outputs": [
    {
     "data": {
      "text/html": [
       "<div>\n",
       "<style scoped>\n",
       "    .dataframe tbody tr th:only-of-type {\n",
       "        vertical-align: middle;\n",
       "    }\n",
       "\n",
       "    .dataframe tbody tr th {\n",
       "        vertical-align: top;\n",
       "    }\n",
       "\n",
       "    .dataframe thead th {\n",
       "        text-align: right;\n",
       "    }\n",
       "</style>\n",
       "<table border=\"1\" class=\"dataframe\">\n",
       "  <thead>\n",
       "    <tr style=\"text-align: right;\">\n",
       "      <th></th>\n",
       "      <th>Job Title</th>\n",
       "      <th>Company</th>\n",
       "      <th>Qualified</th>\n",
       "      <th>JobDescription</th>\n",
       "    </tr>\n",
       "  </thead>\n",
       "  <tbody>\n",
       "    <tr>\n",
       "      <th>0</th>\n",
       "      <td>Lead Analyst, Online Business Analytics (Remote)</td>\n",
       "      <td>Home Depot / THD</td>\n",
       "      <td>N</td>\n",
       "      <td>Position Purpose: The Lead Business Analyst wi...</td>\n",
       "    </tr>\n",
       "    <tr>\n",
       "      <th>1</th>\n",
       "      <td>Data Analytics Apprenticeship, September 2022 ...</td>\n",
       "      <td>Google</td>\n",
       "      <td>Y</td>\n",
       "      <td>Applications will go live Monday May 2, 2022 P...</td>\n",
       "    </tr>\n",
       "    <tr>\n",
       "      <th>2</th>\n",
       "      <td>Specialist-Business Analytics</td>\n",
       "      <td>DIRECTV</td>\n",
       "      <td>N</td>\n",
       "      <td>At DIRECTV, we’re connecting the world through...</td>\n",
       "    </tr>\n",
       "    <tr>\n",
       "      <th>3</th>\n",
       "      <td>Professional - Business Analytics - Fully remote</td>\n",
       "      <td>DIRECTV</td>\n",
       "      <td>N</td>\n",
       "      <td>At DIRECTV our amazing people, combined with a...</td>\n",
       "    </tr>\n",
       "    <tr>\n",
       "      <th>4</th>\n",
       "      <td>Analyst, Online Analytics (Remote)</td>\n",
       "      <td>Home Depot / THD</td>\n",
       "      <td>N</td>\n",
       "      <td>Position Purpose: The Analyst, Online Analytic...</td>\n",
       "    </tr>\n",
       "  </tbody>\n",
       "</table>\n",
       "</div>"
      ],
      "text/plain": [
       "                                           Job Title           Company  \\\n",
       "0   Lead Analyst, Online Business Analytics (Remote)  Home Depot / THD   \n",
       "1  Data Analytics Apprenticeship, September 2022 ...            Google   \n",
       "2                      Specialist-Business Analytics           DIRECTV   \n",
       "3   Professional - Business Analytics - Fully remote           DIRECTV   \n",
       "4                 Analyst, Online Analytics (Remote)  Home Depot / THD   \n",
       "\n",
       "  Qualified                                     JobDescription  \n",
       "0         N  Position Purpose: The Lead Business Analyst wi...  \n",
       "1         Y  Applications will go live Monday May 2, 2022 P...  \n",
       "2         N  At DIRECTV, we’re connecting the world through...  \n",
       "3         N  At DIRECTV our amazing people, combined with a...  \n",
       "4         N  Position Purpose: The Analyst, Online Analytic...  "
      ]
     },
     "execution_count": 2,
     "metadata": {},
     "output_type": "execute_result"
    }
   ],
   "source": [
    "summary.head()"
   ]
  },
  {
   "cell_type": "code",
   "execution_count": 3,
   "id": "6ec0c9c4",
   "metadata": {},
   "outputs": [],
   "source": [
    "summary['Qualified'] = summary['Qualified'].replace({'Y':1, 'N':0})"
   ]
  },
  {
   "cell_type": "code",
   "execution_count": 4,
   "id": "50669c3a",
   "metadata": {},
   "outputs": [
    {
     "data": {
      "text/html": [
       "<div>\n",
       "<style scoped>\n",
       "    .dataframe tbody tr th:only-of-type {\n",
       "        vertical-align: middle;\n",
       "    }\n",
       "\n",
       "    .dataframe tbody tr th {\n",
       "        vertical-align: top;\n",
       "    }\n",
       "\n",
       "    .dataframe thead th {\n",
       "        text-align: right;\n",
       "    }\n",
       "</style>\n",
       "<table border=\"1\" class=\"dataframe\">\n",
       "  <thead>\n",
       "    <tr style=\"text-align: right;\">\n",
       "      <th></th>\n",
       "      <th>Job Title</th>\n",
       "      <th>Company</th>\n",
       "      <th>Qualified</th>\n",
       "      <th>JobDescription</th>\n",
       "    </tr>\n",
       "  </thead>\n",
       "  <tbody>\n",
       "    <tr>\n",
       "      <th>0</th>\n",
       "      <td>Lead Analyst, Online Business Analytics (Remote)</td>\n",
       "      <td>Home Depot / THD</td>\n",
       "      <td>0</td>\n",
       "      <td>Position Purpose: The Lead Business Analyst wi...</td>\n",
       "    </tr>\n",
       "    <tr>\n",
       "      <th>1</th>\n",
       "      <td>Data Analytics Apprenticeship, September 2022 ...</td>\n",
       "      <td>Google</td>\n",
       "      <td>1</td>\n",
       "      <td>Applications will go live Monday May 2, 2022 P...</td>\n",
       "    </tr>\n",
       "    <tr>\n",
       "      <th>2</th>\n",
       "      <td>Specialist-Business Analytics</td>\n",
       "      <td>DIRECTV</td>\n",
       "      <td>0</td>\n",
       "      <td>At DIRECTV, we’re connecting the world through...</td>\n",
       "    </tr>\n",
       "    <tr>\n",
       "      <th>3</th>\n",
       "      <td>Professional - Business Analytics - Fully remote</td>\n",
       "      <td>DIRECTV</td>\n",
       "      <td>0</td>\n",
       "      <td>At DIRECTV our amazing people, combined with a...</td>\n",
       "    </tr>\n",
       "    <tr>\n",
       "      <th>4</th>\n",
       "      <td>Analyst, Online Analytics (Remote)</td>\n",
       "      <td>Home Depot / THD</td>\n",
       "      <td>0</td>\n",
       "      <td>Position Purpose: The Analyst, Online Analytic...</td>\n",
       "    </tr>\n",
       "  </tbody>\n",
       "</table>\n",
       "</div>"
      ],
      "text/plain": [
       "                                           Job Title           Company  \\\n",
       "0   Lead Analyst, Online Business Analytics (Remote)  Home Depot / THD   \n",
       "1  Data Analytics Apprenticeship, September 2022 ...            Google   \n",
       "2                      Specialist-Business Analytics           DIRECTV   \n",
       "3   Professional - Business Analytics - Fully remote           DIRECTV   \n",
       "4                 Analyst, Online Analytics (Remote)  Home Depot / THD   \n",
       "\n",
       "   Qualified                                     JobDescription  \n",
       "0          0  Position Purpose: The Lead Business Analyst wi...  \n",
       "1          1  Applications will go live Monday May 2, 2022 P...  \n",
       "2          0  At DIRECTV, we’re connecting the world through...  \n",
       "3          0  At DIRECTV our amazing people, combined with a...  \n",
       "4          0  Position Purpose: The Analyst, Online Analytic...  "
      ]
     },
     "execution_count": 4,
     "metadata": {},
     "output_type": "execute_result"
    }
   ],
   "source": [
    "summary.head()"
   ]
  },
  {
   "cell_type": "code",
   "execution_count": 5,
   "id": "c127d757",
   "metadata": {},
   "outputs": [
    {
     "name": "stderr",
     "output_type": "stream",
     "text": [
      "[nltk_data] Downloading package stopwords to\n",
      "[nltk_data]     C:\\Users\\jacks\\AppData\\Roaming\\nltk_data...\n",
      "[nltk_data]   Package stopwords is already up-to-date!\n"
     ]
    }
   ],
   "source": [
    "import re\n",
    "import string\n",
    "import nltk\n",
    "\n",
    "nltk.download('stopwords')\n",
    "\n",
    "from nltk.corpus import stopwords\n",
    "from nltk.tokenize import word_tokenize\n",
    "\n",
    "Stopwords = stopwords.words('english')\n",
    "\n",
    "def Punk_Remover(s):\n",
    "    s = ''.join([char for char in s if char not in frozenset(string.punctuation)])\n",
    "    return s\n",
    "\n",
    "summary['JobDescription'] = summary['JobDescription'].apply(Punk_Remover)"
   ]
  },
  {
   "cell_type": "code",
   "execution_count": 6,
   "id": "03f7ac2f",
   "metadata": {},
   "outputs": [],
   "source": [
    "summary['JobDescription'] = summary['JobDescription'].apply(lambda x: ' '.join([word for word in x.split() if word not in (Stopwords)]))\n",
    "\n",
    "all_reviews = ' '.join(summary.JobDescription)\n",
    "all_words = nltk.FreqDist(w.lower() for w in all_reviews.split())\n",
    "\n",
    "word_features = list(all_words)\n",
    "\n",
    "def document_features(document):\n",
    "    document_words = set(document.split())\n",
    "    features = {}\n",
    "    for word in word_features:\n",
    "        features['contains({})'.format(word)] = (word in document_words)\n",
    "    return features\n"
   ]
  },
  {
   "cell_type": "code",
   "execution_count": 7,
   "id": "3b5e1479",
   "metadata": {},
   "outputs": [
    {
     "data": {
      "text/html": [
       "<div>\n",
       "<style scoped>\n",
       "    .dataframe tbody tr th:only-of-type {\n",
       "        vertical-align: middle;\n",
       "    }\n",
       "\n",
       "    .dataframe tbody tr th {\n",
       "        vertical-align: top;\n",
       "    }\n",
       "\n",
       "    .dataframe thead th {\n",
       "        text-align: right;\n",
       "    }\n",
       "</style>\n",
       "<table border=\"1\" class=\"dataframe\">\n",
       "  <thead>\n",
       "    <tr style=\"text-align: right;\">\n",
       "      <th></th>\n",
       "      <th>Job Title</th>\n",
       "      <th>Company</th>\n",
       "      <th>Qualified</th>\n",
       "      <th>JobDescription</th>\n",
       "    </tr>\n",
       "  </thead>\n",
       "  <tbody>\n",
       "    <tr>\n",
       "      <th>0</th>\n",
       "      <td>Lead Analyst, Online Business Analytics (Remote)</td>\n",
       "      <td>Home Depot / THD</td>\n",
       "      <td>0</td>\n",
       "      <td>Position Purpose The Lead Business Analyst str...</td>\n",
       "    </tr>\n",
       "    <tr>\n",
       "      <th>1</th>\n",
       "      <td>Data Analytics Apprenticeship, September 2022 ...</td>\n",
       "      <td>Google</td>\n",
       "      <td>1</td>\n",
       "      <td>Applications go live Monday May 2 2022 Please ...</td>\n",
       "    </tr>\n",
       "    <tr>\n",
       "      <th>2</th>\n",
       "      <td>Specialist-Business Analytics</td>\n",
       "      <td>DIRECTV</td>\n",
       "      <td>0</td>\n",
       "      <td>At DIRECTV we’re connecting world latest tech ...</td>\n",
       "    </tr>\n",
       "    <tr>\n",
       "      <th>3</th>\n",
       "      <td>Professional - Business Analytics - Fully remote</td>\n",
       "      <td>DIRECTV</td>\n",
       "      <td>0</td>\n",
       "      <td>At DIRECTV amazing people combined culture thr...</td>\n",
       "    </tr>\n",
       "    <tr>\n",
       "      <th>4</th>\n",
       "      <td>Analyst, Online Analytics (Remote)</td>\n",
       "      <td>Home Depot / THD</td>\n",
       "      <td>0</td>\n",
       "      <td>Position Purpose The Analyst Online Analytics ...</td>\n",
       "    </tr>\n",
       "  </tbody>\n",
       "</table>\n",
       "</div>"
      ],
      "text/plain": [
       "                                           Job Title           Company  \\\n",
       "0   Lead Analyst, Online Business Analytics (Remote)  Home Depot / THD   \n",
       "1  Data Analytics Apprenticeship, September 2022 ...            Google   \n",
       "2                      Specialist-Business Analytics           DIRECTV   \n",
       "3   Professional - Business Analytics - Fully remote           DIRECTV   \n",
       "4                 Analyst, Online Analytics (Remote)  Home Depot / THD   \n",
       "\n",
       "   Qualified                                     JobDescription  \n",
       "0          0  Position Purpose The Lead Business Analyst str...  \n",
       "1          1  Applications go live Monday May 2 2022 Please ...  \n",
       "2          0  At DIRECTV we’re connecting world latest tech ...  \n",
       "3          0  At DIRECTV amazing people combined culture thr...  \n",
       "4          0  Position Purpose The Analyst Online Analytics ...  "
      ]
     },
     "execution_count": 7,
     "metadata": {},
     "output_type": "execute_result"
    }
   ],
   "source": [
    "summary.head()"
   ]
  },
  {
   "cell_type": "code",
   "execution_count": 8,
   "id": "a28d9423",
   "metadata": {},
   "outputs": [],
   "source": [
    "summary['JobDescription'] = summary['JobDescription'].str.lower()"
   ]
  },
  {
   "cell_type": "code",
   "execution_count": 9,
   "id": "526568f5",
   "metadata": {},
   "outputs": [
    {
     "data": {
      "text/html": [
       "<div>\n",
       "<style scoped>\n",
       "    .dataframe tbody tr th:only-of-type {\n",
       "        vertical-align: middle;\n",
       "    }\n",
       "\n",
       "    .dataframe tbody tr th {\n",
       "        vertical-align: top;\n",
       "    }\n",
       "\n",
       "    .dataframe thead th {\n",
       "        text-align: right;\n",
       "    }\n",
       "</style>\n",
       "<table border=\"1\" class=\"dataframe\">\n",
       "  <thead>\n",
       "    <tr style=\"text-align: right;\">\n",
       "      <th></th>\n",
       "      <th>Job Title</th>\n",
       "      <th>Company</th>\n",
       "      <th>Qualified</th>\n",
       "      <th>JobDescription</th>\n",
       "    </tr>\n",
       "  </thead>\n",
       "  <tbody>\n",
       "    <tr>\n",
       "      <th>0</th>\n",
       "      <td>Lead Analyst, Online Business Analytics (Remote)</td>\n",
       "      <td>Home Depot / THD</td>\n",
       "      <td>0</td>\n",
       "      <td>position purpose the lead business analyst str...</td>\n",
       "    </tr>\n",
       "    <tr>\n",
       "      <th>1</th>\n",
       "      <td>Data Analytics Apprenticeship, September 2022 ...</td>\n",
       "      <td>Google</td>\n",
       "      <td>1</td>\n",
       "      <td>applications go live monday may 2 2022 please ...</td>\n",
       "    </tr>\n",
       "    <tr>\n",
       "      <th>2</th>\n",
       "      <td>Specialist-Business Analytics</td>\n",
       "      <td>DIRECTV</td>\n",
       "      <td>0</td>\n",
       "      <td>at directv we’re connecting world latest tech ...</td>\n",
       "    </tr>\n",
       "    <tr>\n",
       "      <th>3</th>\n",
       "      <td>Professional - Business Analytics - Fully remote</td>\n",
       "      <td>DIRECTV</td>\n",
       "      <td>0</td>\n",
       "      <td>at directv amazing people combined culture thr...</td>\n",
       "    </tr>\n",
       "    <tr>\n",
       "      <th>4</th>\n",
       "      <td>Analyst, Online Analytics (Remote)</td>\n",
       "      <td>Home Depot / THD</td>\n",
       "      <td>0</td>\n",
       "      <td>position purpose the analyst online analytics ...</td>\n",
       "    </tr>\n",
       "  </tbody>\n",
       "</table>\n",
       "</div>"
      ],
      "text/plain": [
       "                                           Job Title           Company  \\\n",
       "0   Lead Analyst, Online Business Analytics (Remote)  Home Depot / THD   \n",
       "1  Data Analytics Apprenticeship, September 2022 ...            Google   \n",
       "2                      Specialist-Business Analytics           DIRECTV   \n",
       "3   Professional - Business Analytics - Fully remote           DIRECTV   \n",
       "4                 Analyst, Online Analytics (Remote)  Home Depot / THD   \n",
       "\n",
       "   Qualified                                     JobDescription  \n",
       "0          0  position purpose the lead business analyst str...  \n",
       "1          1  applications go live monday may 2 2022 please ...  \n",
       "2          0  at directv we’re connecting world latest tech ...  \n",
       "3          0  at directv amazing people combined culture thr...  \n",
       "4          0  position purpose the analyst online analytics ...  "
      ]
     },
     "execution_count": 9,
     "metadata": {},
     "output_type": "execute_result"
    }
   ],
   "source": [
    "summary.head()"
   ]
  },
  {
   "cell_type": "code",
   "execution_count": 10,
   "id": "f5cef54a",
   "metadata": {},
   "outputs": [],
   "source": [
    "all_summary = ' '.join(summary.JobDescription)"
   ]
  },
  {
   "cell_type": "code",
   "execution_count": 11,
   "id": "4554aca5",
   "metadata": {},
   "outputs": [],
   "source": [
    "all_words = nltk.FreqDist(w.lower() for w in all_summary.split())\n",
    "\n",
    "word_features = list(all_words)\n",
    "\n",
    "def document_features(document):\n",
    "    document_words = set(document.split())\n",
    "    features = {}\n",
    "    for word in word_features:\n",
    "        features['contains({})'.format(word)] = (word in document_words)\n",
    "    return features"
   ]
  },
  {
   "cell_type": "code",
   "execution_count": 12,
   "id": "9ce74a6f",
   "metadata": {},
   "outputs": [],
   "source": [
    "import string\n",
    "\n",
    "all_words = [word for word in summary[['JobDescription','Qualified']] if word not in set(string.punctuation)]"
   ]
  },
  {
   "cell_type": "code",
   "execution_count": 13,
   "id": "ea0ddd04",
   "metadata": {},
   "outputs": [],
   "source": [
    "characters_to_remove = [\"''\",'``','.','-',')','(','#',',']\n",
    "all_words = [word for word in summary[['JobDescription','Qualified']] if word not in set(characters_to_remove)]"
   ]
  },
  {
   "cell_type": "code",
   "execution_count": 14,
   "id": "b5bd30f5",
   "metadata": {},
   "outputs": [
    {
     "name": "stdout",
     "output_type": "stream",
     "text": [
      "['JobDescription', 'Qualified']\n"
     ]
    }
   ],
   "source": [
    "print(all_words)"
   ]
  },
  {
   "cell_type": "code",
   "execution_count": 15,
   "id": "7a5357bb",
   "metadata": {},
   "outputs": [],
   "source": [
    "summary_lot = []\n",
    "\n",
    "for index, row in summary[['JobDescription','Qualified']].iterrows():\n",
    "        summary_lot.append(tuple(row))"
   ]
  },
  {
   "cell_type": "code",
   "execution_count": 16,
   "id": "e2fc3cf6",
   "metadata": {},
   "outputs": [],
   "source": [
    "split = 0.7\n",
    "\n",
    "featuresets = [(document_features(d), c) for (d,c) in summary_lot]\n",
    "\n",
    "train_set, test_set = featuresets[int(round(len(featuresets)*split,0))-1:], featuresets[:int(round(len(featuresets)*split,0))-1]\n",
    "\n",
    "nb_classifier = nltk.NaiveBayesClassifier.train(train_set)"
   ]
  },
  {
   "cell_type": "code",
   "execution_count": 17,
   "id": "f1e323f3",
   "metadata": {},
   "outputs": [
    {
     "name": "stdout",
     "output_type": "stream",
     "text": [
      "Most Informative Features\n",
      "contains(educationexperience) = True                1 : 0      =     19.7 : 1.0\n",
      " contains(selfdirection) = True                1 : 0      =     19.7 : 1.0\n",
      "          contains(5000) = True                1 : 0      =     17.1 : 1.0\n",
      "         contains(hands) = True                1 : 0      =     17.1 : 1.0\n",
      "      contains(periodic) = True                1 : 0      =     17.1 : 1.0\n",
      "     contains(sincerely) = True                1 : 0      =     17.1 : 1.0\n",
      "     contains(announced) = True                1 : 0      =     14.5 : 1.0\n",
      "       contains(breadth) = True                1 : 0      =     14.5 : 1.0\n",
      "      contains(children) = True                1 : 0      =     14.5 : 1.0\n",
      "    contains(conceptual) = True                1 : 0      =     14.5 : 1.0\n",
      "   contains(expressions) = True                1 : 0      =     14.5 : 1.0\n",
      "   contains(extensively) = True                1 : 0      =     14.5 : 1.0\n",
      "      contains(hardship) = True                1 : 0      =     14.5 : 1.0\n",
      "     contains(headcount) = True                1 : 0      =     14.5 : 1.0\n",
      "          contains(kind) = True                1 : 0      =     14.5 : 1.0\n",
      "       contains(matches) = True                1 : 0      =     14.5 : 1.0\n",
      " contains(neighborhoods) = True                1 : 0      =     14.5 : 1.0\n",
      "       contains(offense) = True                1 : 0      =     14.5 : 1.0\n",
      "       contains(periods) = True                1 : 0      =     14.5 : 1.0\n",
      " contains(preemployment) = True                1 : 0      =     14.5 : 1.0\n",
      "     contains(prolonged) = True                1 : 0      =     14.5 : 1.0\n",
      "           contains(psa) = True                1 : 0      =     14.5 : 1.0\n",
      "contains(quantitatively) = True                1 : 0      =     14.5 : 1.0\n",
      "         contains(raise) = True                1 : 0      =     14.5 : 1.0\n",
      "      contains(receives) = True                1 : 0      =     14.5 : 1.0\n"
     ]
    }
   ],
   "source": [
    "nb_classifier.show_most_informative_features(25)"
   ]
  },
  {
   "cell_type": "code",
   "execution_count": 18,
   "id": "82603e29",
   "metadata": {},
   "outputs": [],
   "source": [
    "import pandas as pd\n",
    "\n",
    "from keras.preprocessing.text import Tokenizer\n",
    "from keras.preprocessing.sequence import pad_sequences\n",
    "from keras.models import Sequential\n",
    "from keras.layers import Dense, Flatten, LSTM, Conv1D, GlobalMaxPooling1D, Dropout, Activation\n",
    "from keras.layers import Input, TextVectorization\n",
    "from keras.callbacks import *\n",
    "from keras.metrics import *\n",
    "from keras.backend import clear_session\n",
    "from keras.layers.embeddings import Embedding\n",
    "from keras.initializers import Constant\n",
    "\n",
    "import spacy"
   ]
  },
  {
   "cell_type": "code",
   "execution_count": 19,
   "id": "d4c5dbd2",
   "metadata": {},
   "outputs": [],
   "source": [
    "from sklearn.model_selection import train_test_split\n",
    "\n",
    "X = summary['JobDescription'].astype(str)\n",
    "y = summary['Qualified']\n",
    "\n",
    "X_train, X_test, y_train, y_test = train_test_split(X, y, test_size=0.33, random_state=101)"
   ]
  },
  {
   "cell_type": "code",
   "execution_count": 20,
   "id": "fc96c76e",
   "metadata": {},
   "outputs": [],
   "source": [
    "from keras.preprocessing.text import Tokenizer\n",
    "from keras.preprocessing.sequence import pad_sequences\n",
    "\n",
    "tokenizer = Tokenizer()\n",
    "\n",
    "tokenizer.fit_on_texts(list(X_train))\n",
    "\n",
    "X_train_seq  = tokenizer.texts_to_sequences(X_train) \n",
    "X_test_seq = tokenizer.texts_to_sequences(X_test)\n",
    "\n",
    "X_train_seq  = pad_sequences(X_train_seq, maxlen=300)\n",
    "X_test_seq = pad_sequences(X_test_seq, maxlen=300)"
   ]
  },
  {
   "cell_type": "code",
   "execution_count": 21,
   "id": "73cf25e8",
   "metadata": {},
   "outputs": [
    {
     "name": "stdout",
     "output_type": "stream",
     "text": [
      "11569\n"
     ]
    }
   ],
   "source": [
    "size_of_vocabulary=len(tokenizer.word_index) + 1\n",
    "print(size_of_vocabulary)"
   ]
  },
  {
   "cell_type": "code",
   "execution_count": 25,
   "id": "c7af4851",
   "metadata": {},
   "outputs": [],
   "source": [
    "METRICS = [\n",
    "      TruePositives(name='tp'),\n",
    "      FalsePositives(name='fp'),\n",
    "      TrueNegatives(name='tn'),\n",
    "      FalseNegatives(name='fn'), \n",
    "      BinaryAccuracy(name='accuracy'),\n",
    "      Precision(name='precision'),\n",
    "      Recall(name='recall'),\n",
    "      AUC(name='auc'),\n",
    "      AUC(name='prc', curve='PR'),\n",
    "      \n",
    "]"
   ]
  },
  {
   "cell_type": "code",
   "execution_count": 23,
   "id": "8828d886",
   "metadata": {},
   "outputs": [
    {
     "name": "stdout",
     "output_type": "stream",
     "text": [
      "Model: \"sequential\"\n",
      "_________________________________________________________________\n",
      " Layer (type)                Output Shape              Param #   \n",
      "=================================================================\n",
      " embedding (Embedding)       (None, 300, 500)          5784500   \n",
      "                                                                 \n",
      " global_max_pooling1d (Globa  (None, 500)              0         \n",
      " lMaxPooling1D)                                                  \n",
      "                                                                 \n",
      " dense (Dense)               (None, 64)                32064     \n",
      "                                                                 \n",
      " dense_1 (Dense)             (None, 1)                 65        \n",
      "                                                                 \n",
      "=================================================================\n",
      "Total params: 5,816,629\n",
      "Trainable params: 5,816,629\n",
      "Non-trainable params: 0\n",
      "_________________________________________________________________\n",
      "None\n"
     ]
    }
   ],
   "source": [
    "clear_session()\n",
    "\n",
    "model=Sequential()\n",
    "\n",
    "model.add(Embedding(size_of_vocabulary,500,input_length=300,trainable=True)) \n",
    "\n",
    "model.add(GlobalMaxPooling1D())\n",
    "\n",
    "model.add(Dense(64,activation='relu')) \n",
    "model.add(Dense(1,activation='sigmoid')) \n",
    "\n",
    "model.compile(optimizer='adam', loss='binary_crossentropy',metrics=METRICS) \n",
    "\n",
    "es = EarlyStopping(monitor='val_loss', mode='min', verbose=1, patience=3)  \n",
    "mc=ModelCheckpoint('best_model', monitor='val_loss', mode='min', save_best_only=True, save_weights_only=False, verbose=1)  \n",
    "\n",
    "print(model.summary())"
   ]
  },
  {
   "cell_type": "code",
   "execution_count": null,
   "id": "ced143e3",
   "metadata": {},
   "outputs": [],
   "source": []
  }
 ],
 "metadata": {
  "kernelspec": {
   "display_name": "Python 3",
   "language": "python",
   "name": "python3"
  },
  "language_info": {
   "codemirror_mode": {
    "name": "ipython",
    "version": 3
   },
   "file_extension": ".py",
   "mimetype": "text/x-python",
   "name": "python",
   "nbconvert_exporter": "python",
   "pygments_lexer": "ipython3",
   "version": "3.8.8"
  }
 },
 "nbformat": 4,
 "nbformat_minor": 5
}
