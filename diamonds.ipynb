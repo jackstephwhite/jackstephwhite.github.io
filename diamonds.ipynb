{
 "cells": [
  {
   "cell_type": "code",
   "execution_count": 1,
   "metadata": {
    "id": "CAj1-oKX8CLU"
   },
   "outputs": [],
   "source": [
    "import pandas as pd\n",
    "import numpy as np\n",
    "import seaborn as sns\n",
    "from sklearn.model_selection import train_test_split\n",
    "from sklearn.linear_model import LinearRegression\n",
    "from sklearn.metrics import mean_absolute_error, mean_squared_error, max_error, r2_score\n",
    "import math\n"
   ]
  },
  {
   "cell_type": "code",
   "execution_count": 2,
   "metadata": {
    "id": "DOZuq4cG8M8G"
   },
   "outputs": [],
   "source": [
    "train = pd.read_csv('diamonds_train.csv')\n",
    "score = pd.read_csv('diamonds_score.csv')"
   ]
  },
  {
   "cell_type": "code",
   "execution_count": 4,
   "metadata": {},
   "outputs": [
    {
     "data": {
      "text/html": [
       "<div>\n",
       "<style scoped>\n",
       "    .dataframe tbody tr th:only-of-type {\n",
       "        vertical-align: middle;\n",
       "    }\n",
       "\n",
       "    .dataframe tbody tr th {\n",
       "        vertical-align: top;\n",
       "    }\n",
       "\n",
       "    .dataframe thead th {\n",
       "        text-align: right;\n",
       "    }\n",
       "</style>\n",
       "<table border=\"1\" class=\"dataframe\">\n",
       "  <thead>\n",
       "    <tr style=\"text-align: right;\">\n",
       "      <th></th>\n",
       "      <th>shape</th>\n",
       "      <th>cut</th>\n",
       "      <th>color</th>\n",
       "      <th>clarity</th>\n",
       "      <th>weight_ct</th>\n",
       "      <th>fluorescence</th>\n",
       "      <th>length_width_ratio</th>\n",
       "      <th>polish</th>\n",
       "      <th>symmetry</th>\n",
       "      <th>girdle</th>\n",
       "      <th>cutlet</th>\n",
       "      <th>price</th>\n",
       "      <th>depth</th>\n",
       "      <th>table</th>\n",
       "      <th>length</th>\n",
       "      <th>width</th>\n",
       "      <th>height</th>\n",
       "    </tr>\n",
       "  </thead>\n",
       "  <tbody>\n",
       "    <tr>\n",
       "      <th>0</th>\n",
       "      <td>Round</td>\n",
       "      <td>Ideal</td>\n",
       "      <td>G</td>\n",
       "      <td>VVS1</td>\n",
       "      <td>0.58</td>\n",
       "      <td>FaintInfo</td>\n",
       "      <td>1.01</td>\n",
       "      <td>Excellent</td>\n",
       "      <td>Excellent</td>\n",
       "      <td>Thin to Medium</td>\n",
       "      <td>None</td>\n",
       "      <td>2311</td>\n",
       "      <td>62.4</td>\n",
       "      <td>56</td>\n",
       "      <td>5.31</td>\n",
       "      <td>5.34</td>\n",
       "      <td>3.32</td>\n",
       "    </tr>\n",
       "    <tr>\n",
       "      <th>1</th>\n",
       "      <td>Round</td>\n",
       "      <td>Ideal</td>\n",
       "      <td>J</td>\n",
       "      <td>SI1</td>\n",
       "      <td>1.00</td>\n",
       "      <td>NoneInfo</td>\n",
       "      <td>1.01</td>\n",
       "      <td>Very Good</td>\n",
       "      <td>Very Good</td>\n",
       "      <td>Medium to Slightly Thick</td>\n",
       "      <td>Medium</td>\n",
       "      <td>3985</td>\n",
       "      <td>61.8</td>\n",
       "      <td>61</td>\n",
       "      <td>6.35</td>\n",
       "      <td>6.40</td>\n",
       "      <td>3.94</td>\n",
       "    </tr>\n",
       "    <tr>\n",
       "      <th>2</th>\n",
       "      <td>Round</td>\n",
       "      <td>Very Good</td>\n",
       "      <td>F</td>\n",
       "      <td>VVS2</td>\n",
       "      <td>0.90</td>\n",
       "      <td>NoneInfo</td>\n",
       "      <td>1.02</td>\n",
       "      <td>Excellent</td>\n",
       "      <td>Very Good</td>\n",
       "      <td>Medium to Slightly Thick</td>\n",
       "      <td>None</td>\n",
       "      <td>5935</td>\n",
       "      <td>64.3</td>\n",
       "      <td>56</td>\n",
       "      <td>6.12</td>\n",
       "      <td>6.02</td>\n",
       "      <td>3.90</td>\n",
       "    </tr>\n",
       "    <tr>\n",
       "      <th>3</th>\n",
       "      <td>Round</td>\n",
       "      <td>Ideal</td>\n",
       "      <td>H</td>\n",
       "      <td>VS1</td>\n",
       "      <td>0.30</td>\n",
       "      <td>NoneInfo</td>\n",
       "      <td>1.01</td>\n",
       "      <td>Excellent</td>\n",
       "      <td>Very Good</td>\n",
       "      <td>Medium to Slightly Thick</td>\n",
       "      <td>None</td>\n",
       "      <td>578</td>\n",
       "      <td>62.2</td>\n",
       "      <td>56</td>\n",
       "      <td>4.30</td>\n",
       "      <td>4.26</td>\n",
       "      <td>2.66</td>\n",
       "    </tr>\n",
       "    <tr>\n",
       "      <th>4</th>\n",
       "      <td>Round</td>\n",
       "      <td>Very Good</td>\n",
       "      <td>I</td>\n",
       "      <td>VS2</td>\n",
       "      <td>1.51</td>\n",
       "      <td>NoneInfo</td>\n",
       "      <td>1.24</td>\n",
       "      <td>Excellent</td>\n",
       "      <td>Excellent</td>\n",
       "      <td>Slightly Thick to Thick</td>\n",
       "      <td>None</td>\n",
       "      <td>7195</td>\n",
       "      <td>69.4</td>\n",
       "      <td>67</td>\n",
       "      <td>7.20</td>\n",
       "      <td>5.79</td>\n",
       "      <td>4.02</td>\n",
       "    </tr>\n",
       "  </tbody>\n",
       "</table>\n",
       "</div>"
      ],
      "text/plain": [
       "   shape        cut color clarity  weight_ct fluorescence  length_width_ratio  \\\n",
       "0  Round      Ideal     G    VVS1       0.58    FaintInfo                1.01   \n",
       "1  Round      Ideal     J     SI1       1.00     NoneInfo                1.01   \n",
       "2  Round  Very Good     F    VVS2       0.90     NoneInfo                1.02   \n",
       "3  Round      Ideal     H     VS1       0.30     NoneInfo                1.01   \n",
       "4  Round  Very Good     I     VS2       1.51     NoneInfo                1.24   \n",
       "\n",
       "      polish   symmetry                    girdle  cutlet  price  depth  \\\n",
       "0  Excellent  Excellent            Thin to Medium    None   2311   62.4   \n",
       "1  Very Good  Very Good  Medium to Slightly Thick  Medium   3985   61.8   \n",
       "2  Excellent  Very Good  Medium to Slightly Thick    None   5935   64.3   \n",
       "3  Excellent  Very Good  Medium to Slightly Thick    None    578   62.2   \n",
       "4  Excellent  Excellent   Slightly Thick to Thick    None   7195   69.4   \n",
       "\n",
       "   table  length  width  height  \n",
       "0     56    5.31   5.34    3.32  \n",
       "1     61    6.35   6.40    3.94  \n",
       "2     56    6.12   6.02    3.90  \n",
       "3     56    4.30   4.26    2.66  \n",
       "4     67    7.20   5.79    4.02  "
      ]
     },
     "execution_count": 4,
     "metadata": {},
     "output_type": "execute_result"
    }
   ],
   "source": [
    "score.head()"
   ]
  },
  {
   "cell_type": "code",
   "execution_count": 3,
   "metadata": {
    "colab": {
     "base_uri": "https://localhost:8080/",
     "height": 425
    },
    "id": "IYKRvlUB8Tfo",
    "outputId": "feecdebc-140c-4e47-85be-8a61b2f76ba9"
   },
   "outputs": [
    {
     "data": {
      "text/html": [
       "<div>\n",
       "<style scoped>\n",
       "    .dataframe tbody tr th:only-of-type {\n",
       "        vertical-align: middle;\n",
       "    }\n",
       "\n",
       "    .dataframe tbody tr th {\n",
       "        vertical-align: top;\n",
       "    }\n",
       "\n",
       "    .dataframe thead th {\n",
       "        text-align: right;\n",
       "    }\n",
       "</style>\n",
       "<table border=\"1\" class=\"dataframe\">\n",
       "  <thead>\n",
       "    <tr style=\"text-align: right;\">\n",
       "      <th></th>\n",
       "      <th>shape</th>\n",
       "      <th>cut</th>\n",
       "      <th>color</th>\n",
       "      <th>clarity</th>\n",
       "      <th>weight_ct</th>\n",
       "      <th>fluorescence</th>\n",
       "      <th>length_width_ratio</th>\n",
       "      <th>polish</th>\n",
       "      <th>symmetry</th>\n",
       "      <th>girdle</th>\n",
       "      <th>cutlet</th>\n",
       "      <th>price</th>\n",
       "      <th>depth</th>\n",
       "      <th>table</th>\n",
       "      <th>length</th>\n",
       "      <th>width</th>\n",
       "      <th>height</th>\n",
       "    </tr>\n",
       "  </thead>\n",
       "  <tbody>\n",
       "    <tr>\n",
       "      <th>0</th>\n",
       "      <td>Emerald</td>\n",
       "      <td>Very Good</td>\n",
       "      <td>D</td>\n",
       "      <td>SI1</td>\n",
       "      <td>1.70</td>\n",
       "      <td>Medium BlueInfo</td>\n",
       "      <td>1.29</td>\n",
       "      <td>Very Good</td>\n",
       "      <td>Very Good</td>\n",
       "      <td>Thin to Very Thick</td>\n",
       "      <td>None</td>\n",
       "      <td>13519</td>\n",
       "      <td>68.1</td>\n",
       "      <td>70.0</td>\n",
       "      <td>7.94</td>\n",
       "      <td>6.17</td>\n",
       "      <td>4.20</td>\n",
       "    </tr>\n",
       "    <tr>\n",
       "      <th>1</th>\n",
       "      <td>Round</td>\n",
       "      <td>Ideal</td>\n",
       "      <td>F</td>\n",
       "      <td>IF</td>\n",
       "      <td>1.07</td>\n",
       "      <td>FaintInfo</td>\n",
       "      <td>1.00</td>\n",
       "      <td>Excellent</td>\n",
       "      <td>Excellent</td>\n",
       "      <td>Thin to Slightly Thick</td>\n",
       "      <td>None</td>\n",
       "      <td>8842</td>\n",
       "      <td>62.4</td>\n",
       "      <td>56.0</td>\n",
       "      <td>6.52</td>\n",
       "      <td>6.54</td>\n",
       "      <td>4.07</td>\n",
       "    </tr>\n",
       "    <tr>\n",
       "      <th>2</th>\n",
       "      <td>Radiant</td>\n",
       "      <td>Very Good</td>\n",
       "      <td>G</td>\n",
       "      <td>VVS1</td>\n",
       "      <td>1.05</td>\n",
       "      <td>NoneInfo</td>\n",
       "      <td>1.20</td>\n",
       "      <td>Excellent</td>\n",
       "      <td>Excellent</td>\n",
       "      <td>Slightly Thick to Thick</td>\n",
       "      <td>None</td>\n",
       "      <td>4817</td>\n",
       "      <td>71.3</td>\n",
       "      <td>68.0</td>\n",
       "      <td>6.15</td>\n",
       "      <td>5.12</td>\n",
       "      <td>3.65</td>\n",
       "    </tr>\n",
       "    <tr>\n",
       "      <th>3</th>\n",
       "      <td>Round</td>\n",
       "      <td>Ideal</td>\n",
       "      <td>E</td>\n",
       "      <td>VVS2</td>\n",
       "      <td>2.85</td>\n",
       "      <td>NoneInfo</td>\n",
       "      <td>1.01</td>\n",
       "      <td>Excellent</td>\n",
       "      <td>Excellent</td>\n",
       "      <td>Medium to Slightly Thick</td>\n",
       "      <td>None</td>\n",
       "      <td>63161</td>\n",
       "      <td>62.7</td>\n",
       "      <td>58.0</td>\n",
       "      <td>9.06</td>\n",
       "      <td>9.00</td>\n",
       "      <td>5.66</td>\n",
       "    </tr>\n",
       "    <tr>\n",
       "      <th>4</th>\n",
       "      <td>Round</td>\n",
       "      <td>Ideal</td>\n",
       "      <td>D</td>\n",
       "      <td>SI1</td>\n",
       "      <td>0.35</td>\n",
       "      <td>NoneInfo</td>\n",
       "      <td>1.00</td>\n",
       "      <td>Excellent</td>\n",
       "      <td>Excellent</td>\n",
       "      <td>Medium to Slightly Thick</td>\n",
       "      <td>None</td>\n",
       "      <td>653</td>\n",
       "      <td>59.9</td>\n",
       "      <td>59.0</td>\n",
       "      <td>4.57</td>\n",
       "      <td>4.59</td>\n",
       "      <td>2.74</td>\n",
       "    </tr>\n",
       "  </tbody>\n",
       "</table>\n",
       "</div>"
      ],
      "text/plain": [
       "     shape        cut color clarity  weight_ct     fluorescence  \\\n",
       "0  Emerald  Very Good     D     SI1       1.70  Medium BlueInfo   \n",
       "1    Round      Ideal     F      IF       1.07        FaintInfo   \n",
       "2  Radiant  Very Good     G    VVS1       1.05         NoneInfo   \n",
       "3    Round      Ideal     E    VVS2       2.85         NoneInfo   \n",
       "4    Round      Ideal     D     SI1       0.35         NoneInfo   \n",
       "\n",
       "   length_width_ratio     polish   symmetry                    girdle cutlet  \\\n",
       "0                1.29  Very Good  Very Good        Thin to Very Thick   None   \n",
       "1                1.00  Excellent  Excellent    Thin to Slightly Thick   None   \n",
       "2                1.20  Excellent  Excellent   Slightly Thick to Thick   None   \n",
       "3                1.01  Excellent  Excellent  Medium to Slightly Thick   None   \n",
       "4                1.00  Excellent  Excellent  Medium to Slightly Thick   None   \n",
       "\n",
       "   price  depth  table  length  width  height  \n",
       "0  13519   68.1   70.0    7.94   6.17    4.20  \n",
       "1   8842   62.4   56.0    6.52   6.54    4.07  \n",
       "2   4817   71.3   68.0    6.15   5.12    3.65  \n",
       "3  63161   62.7   58.0    9.06   9.00    5.66  \n",
       "4    653   59.9   59.0    4.57   4.59    2.74  "
      ]
     },
     "execution_count": 3,
     "metadata": {},
     "output_type": "execute_result"
    }
   ],
   "source": [
    "train.head()"
   ]
  },
  {
   "cell_type": "code",
   "execution_count": 4,
   "metadata": {
    "colab": {
     "base_uri": "https://localhost:8080/"
    },
    "id": "ZMmKmWMD8ZnW",
    "outputId": "42a0458f-0195-4d5c-de4a-e4107fd47f3b"
   },
   "outputs": [
    {
     "name": "stdout",
     "output_type": "stream",
     "text": [
      "<class 'pandas.core.frame.DataFrame'>\n",
      "RangeIndex: 150546 entries, 0 to 150545\n",
      "Data columns (total 17 columns):\n",
      " #   Column              Non-Null Count   Dtype  \n",
      "---  ------              --------------   -----  \n",
      " 0   shape               150546 non-null  object \n",
      " 1   cut                 150546 non-null  object \n",
      " 2   color               150546 non-null  object \n",
      " 3   clarity             150546 non-null  object \n",
      " 4   weight_ct           150546 non-null  float64\n",
      " 5   fluorescence        150546 non-null  object \n",
      " 6   length_width_ratio  150546 non-null  float64\n",
      " 7   polish              150546 non-null  object \n",
      " 8   symmetry            150546 non-null  object \n",
      " 9   girdle              150546 non-null  object \n",
      " 10  cutlet              150546 non-null  object \n",
      " 11  price               150546 non-null  int64  \n",
      " 12  depth               150546 non-null  float64\n",
      " 13  table               150546 non-null  float64\n",
      " 14  length              150546 non-null  float64\n",
      " 15  width               150546 non-null  float64\n",
      " 16  height              150546 non-null  float64\n",
      "dtypes: float64(7), int64(1), object(9)\n",
      "memory usage: 19.5+ MB\n"
     ]
    }
   ],
   "source": [
    "train.info()"
   ]
  },
  {
   "cell_type": "code",
   "execution_count": 5,
   "metadata": {
    "colab": {
     "base_uri": "https://localhost:8080/",
     "height": 312
    },
    "id": "FUjv3JxA8kAI",
    "outputId": "dbc2bf2f-deb3-44b0-b5d8-91316021784b"
   },
   "outputs": [
    {
     "data": {
      "text/plain": [
       "<AxesSubplot:>"
      ]
     },
     "execution_count": 5,
     "metadata": {},
     "output_type": "execute_result"
    },
    {
     "data": {
      "image/png": "[encoded data removed]",
      "text/plain": [
       "<Figure size 432x288 with 1 Axes>"
      ]
     },
     "metadata": {
      "needs_background": "light"
     },
     "output_type": "display_data"
    }
   ],
   "source": [
    "train['shape'].hist(xrot=45.0)"
   ]
  },
  {
   "cell_type": "code",
   "execution_count": 6,
   "metadata": {
    "colab": {
     "base_uri": "https://localhost:8080/",
     "height": 302
    },
    "id": "vuELlszk8r3_",
    "outputId": "34a60123-bc84-451e-ad5b-632909dc5d49"
   },
   "outputs": [
    {
     "data": {
      "text/plain": [
       "<AxesSubplot:>"
      ]
     },
     "execution_count": 6,
     "metadata": {},
     "output_type": "execute_result"
    },
    {
     "data": {
      "image/png": "[encoded data removed]",
      "text/plain": [
       "<Figure size 432x288 with 1 Axes>"
      ]
     },
     "metadata": {
      "needs_background": "light"
     },
     "output_type": "display_data"
    }
   ],
   "source": [
    "score['shape'].hist(xrot=45.0)"
   ]
  },
  {
   "cell_type": "code",
   "execution_count": 7,
   "metadata": {
    "colab": {
     "base_uri": "https://localhost:8080/",
     "height": 295
    },
    "id": "uRf-lgag8tqR",
    "outputId": "ff1d2c51-9df3-4c85-923f-2d9e0f2698c0"
   },
   "outputs": [
    {
     "data": {
      "text/html": [
       "<div>\n",
       "<style scoped>\n",
       "    .dataframe tbody tr th:only-of-type {\n",
       "        vertical-align: middle;\n",
       "    }\n",
       "\n",
       "    .dataframe tbody tr th {\n",
       "        vertical-align: top;\n",
       "    }\n",
       "\n",
       "    .dataframe thead th {\n",
       "        text-align: right;\n",
       "    }\n",
       "</style>\n",
       "<table border=\"1\" class=\"dataframe\">\n",
       "  <thead>\n",
       "    <tr style=\"text-align: right;\">\n",
       "      <th></th>\n",
       "      <th>count</th>\n",
       "      <th>mean</th>\n",
       "      <th>std</th>\n",
       "      <th>min</th>\n",
       "      <th>25%</th>\n",
       "      <th>50%</th>\n",
       "      <th>75%</th>\n",
       "      <th>max</th>\n",
       "    </tr>\n",
       "  </thead>\n",
       "  <tbody>\n",
       "    <tr>\n",
       "      <th>weight_ct</th>\n",
       "      <td>10.0</td>\n",
       "      <td>0.770</td>\n",
       "      <td>0.468117</td>\n",
       "      <td>0.30</td>\n",
       "      <td>0.3150</td>\n",
       "      <td>0.740</td>\n",
       "      <td>1.0450</td>\n",
       "      <td>1.51</td>\n",
       "    </tr>\n",
       "    <tr>\n",
       "      <th>length_width_ratio</th>\n",
       "      <td>10.0</td>\n",
       "      <td>1.035</td>\n",
       "      <td>0.072915</td>\n",
       "      <td>1.00</td>\n",
       "      <td>1.0100</td>\n",
       "      <td>1.010</td>\n",
       "      <td>1.0175</td>\n",
       "      <td>1.24</td>\n",
       "    </tr>\n",
       "    <tr>\n",
       "      <th>price</th>\n",
       "      <td>10.0</td>\n",
       "      <td>3715.400</td>\n",
       "      <td>3273.190397</td>\n",
       "      <td>483.00</td>\n",
       "      <td>530.0000</td>\n",
       "      <td>3148.000</td>\n",
       "      <td>6527.5000</td>\n",
       "      <td>8942.00</td>\n",
       "    </tr>\n",
       "    <tr>\n",
       "      <th>depth</th>\n",
       "      <td>10.0</td>\n",
       "      <td>64.070</td>\n",
       "      <td>2.829625</td>\n",
       "      <td>61.80</td>\n",
       "      <td>62.4250</td>\n",
       "      <td>62.600</td>\n",
       "      <td>64.1750</td>\n",
       "      <td>69.40</td>\n",
       "    </tr>\n",
       "    <tr>\n",
       "      <th>table</th>\n",
       "      <td>10.0</td>\n",
       "      <td>60.000</td>\n",
       "      <td>6.271629</td>\n",
       "      <td>56.00</td>\n",
       "      <td>56.2500</td>\n",
       "      <td>57.000</td>\n",
       "      <td>60.2500</td>\n",
       "      <td>75.00</td>\n",
       "    </tr>\n",
       "    <tr>\n",
       "      <th>length</th>\n",
       "      <td>10.0</td>\n",
       "      <td>5.551</td>\n",
       "      <td>1.261573</td>\n",
       "      <td>3.87</td>\n",
       "      <td>4.3350</td>\n",
       "      <td>5.715</td>\n",
       "      <td>6.4775</td>\n",
       "      <td>7.20</td>\n",
       "    </tr>\n",
       "    <tr>\n",
       "      <th>width</th>\n",
       "      <td>10.0</td>\n",
       "      <td>5.376</td>\n",
       "      <td>1.151233</td>\n",
       "      <td>3.72</td>\n",
       "      <td>4.3000</td>\n",
       "      <td>5.565</td>\n",
       "      <td>6.3050</td>\n",
       "      <td>7.08</td>\n",
       "    </tr>\n",
       "    <tr>\n",
       "      <th>height</th>\n",
       "      <td>10.0</td>\n",
       "      <td>3.441</td>\n",
       "      <td>0.708056</td>\n",
       "      <td>2.58</td>\n",
       "      <td>2.7325</td>\n",
       "      <td>3.610</td>\n",
       "      <td>4.0000</td>\n",
       "      <td>4.44</td>\n",
       "    </tr>\n",
       "  </tbody>\n",
       "</table>\n",
       "</div>"
      ],
      "text/plain": [
       "                    count      mean          std     min       25%       50%  \\\n",
       "weight_ct            10.0     0.770     0.468117    0.30    0.3150     0.740   \n",
       "length_width_ratio   10.0     1.035     0.072915    1.00    1.0100     1.010   \n",
       "price                10.0  3715.400  3273.190397  483.00  530.0000  3148.000   \n",
       "depth                10.0    64.070     2.829625   61.80   62.4250    62.600   \n",
       "table                10.0    60.000     6.271629   56.00   56.2500    57.000   \n",
       "length               10.0     5.551     1.261573    3.87    4.3350     5.715   \n",
       "width                10.0     5.376     1.151233    3.72    4.3000     5.565   \n",
       "height               10.0     3.441     0.708056    2.58    2.7325     3.610   \n",
       "\n",
       "                          75%      max  \n",
       "weight_ct              1.0450     1.51  \n",
       "length_width_ratio     1.0175     1.24  \n",
       "price               6527.5000  8942.00  \n",
       "depth                 64.1750    69.40  \n",
       "table                 60.2500    75.00  \n",
       "length                 6.4775     7.20  \n",
       "width                  6.3050     7.08  \n",
       "height                 4.0000     4.44  "
      ]
     },
     "execution_count": 7,
     "metadata": {},
     "output_type": "execute_result"
    }
   ],
   "source": [
    "score.describe().T"
   ]
  },
  {
   "cell_type": "code",
   "execution_count": 8,
   "metadata": {
    "id": "h1qVc8nH84V4"
   },
   "outputs": [],
   "source": [
    "round_diamonds = train[train['shape'].isin(['Round'])]"
   ]
  },
  {
   "cell_type": "code",
   "execution_count": 9,
   "metadata": {
    "colab": {
     "base_uri": "https://localhost:8080/",
     "height": 295
    },
    "id": "iQh9T70v9Pb9",
    "outputId": "cfce39e6-ed89-446f-be7f-b122d31e9816"
   },
   "outputs": [
    {
     "data": {
      "text/html": [
       "<div>\n",
       "<style scoped>\n",
       "    .dataframe tbody tr th:only-of-type {\n",
       "        vertical-align: middle;\n",
       "    }\n",
       "\n",
       "    .dataframe tbody tr th {\n",
       "        vertical-align: top;\n",
       "    }\n",
       "\n",
       "    .dataframe thead th {\n",
       "        text-align: right;\n",
       "    }\n",
       "</style>\n",
       "<table border=\"1\" class=\"dataframe\">\n",
       "  <thead>\n",
       "    <tr style=\"text-align: right;\">\n",
       "      <th></th>\n",
       "      <th>count</th>\n",
       "      <th>mean</th>\n",
       "      <th>std</th>\n",
       "      <th>min</th>\n",
       "      <th>25%</th>\n",
       "      <th>50%</th>\n",
       "      <th>75%</th>\n",
       "      <th>max</th>\n",
       "    </tr>\n",
       "  </thead>\n",
       "  <tbody>\n",
       "    <tr>\n",
       "      <th>weight_ct</th>\n",
       "      <td>106261.0</td>\n",
       "      <td>0.742399</td>\n",
       "      <td>0.660936</td>\n",
       "      <td>0.23</td>\n",
       "      <td>0.37</td>\n",
       "      <td>0.51</td>\n",
       "      <td>1.00</td>\n",
       "      <td>18.91</td>\n",
       "    </tr>\n",
       "    <tr>\n",
       "      <th>length_width_ratio</th>\n",
       "      <td>106261.0</td>\n",
       "      <td>1.006993</td>\n",
       "      <td>0.005141</td>\n",
       "      <td>1.00</td>\n",
       "      <td>1.00</td>\n",
       "      <td>1.01</td>\n",
       "      <td>1.01</td>\n",
       "      <td>1.04</td>\n",
       "    </tr>\n",
       "    <tr>\n",
       "      <th>price</th>\n",
       "      <td>106261.0</td>\n",
       "      <td>5252.968671</td>\n",
       "      <td>22224.498325</td>\n",
       "      <td>282.00</td>\n",
       "      <td>710.00</td>\n",
       "      <td>1387.00</td>\n",
       "      <td>4579.00</td>\n",
       "      <td>2641889.00</td>\n",
       "    </tr>\n",
       "    <tr>\n",
       "      <th>depth</th>\n",
       "      <td>106261.0</td>\n",
       "      <td>62.179249</td>\n",
       "      <td>1.521566</td>\n",
       "      <td>4.00</td>\n",
       "      <td>61.40</td>\n",
       "      <td>62.30</td>\n",
       "      <td>62.80</td>\n",
       "      <td>67.80</td>\n",
       "    </tr>\n",
       "    <tr>\n",
       "      <th>table</th>\n",
       "      <td>106261.0</td>\n",
       "      <td>57.952478</td>\n",
       "      <td>2.052091</td>\n",
       "      <td>5.00</td>\n",
       "      <td>56.00</td>\n",
       "      <td>58.00</td>\n",
       "      <td>59.00</td>\n",
       "      <td>69.00</td>\n",
       "    </tr>\n",
       "    <tr>\n",
       "      <th>length</th>\n",
       "      <td>106261.0</td>\n",
       "      <td>5.419384</td>\n",
       "      <td>1.184975</td>\n",
       "      <td>0.00</td>\n",
       "      <td>4.57</td>\n",
       "      <td>5.13</td>\n",
       "      <td>6.21</td>\n",
       "      <td>9.99</td>\n",
       "    </tr>\n",
       "    <tr>\n",
       "      <th>width</th>\n",
       "      <td>106261.0</td>\n",
       "      <td>5.414422</td>\n",
       "      <td>1.187471</td>\n",
       "      <td>0.00</td>\n",
       "      <td>4.56</td>\n",
       "      <td>5.12</td>\n",
       "      <td>6.22</td>\n",
       "      <td>9.99</td>\n",
       "    </tr>\n",
       "    <tr>\n",
       "      <th>height</th>\n",
       "      <td>106261.0</td>\n",
       "      <td>3.413124</td>\n",
       "      <td>0.759521</td>\n",
       "      <td>0.07</td>\n",
       "      <td>2.85</td>\n",
       "      <td>3.19</td>\n",
       "      <td>3.92</td>\n",
       "      <td>9.80</td>\n",
       "    </tr>\n",
       "  </tbody>\n",
       "</table>\n",
       "</div>"
      ],
      "text/plain": [
       "                       count         mean           std     min     25%  \\\n",
       "weight_ct           106261.0     0.742399      0.660936    0.23    0.37   \n",
       "length_width_ratio  106261.0     1.006993      0.005141    1.00    1.00   \n",
       "price               106261.0  5252.968671  22224.498325  282.00  710.00   \n",
       "depth               106261.0    62.179249      1.521566    4.00   61.40   \n",
       "table               106261.0    57.952478      2.052091    5.00   56.00   \n",
       "length              106261.0     5.419384      1.184975    0.00    4.57   \n",
       "width               106261.0     5.414422      1.187471    0.00    4.56   \n",
       "height              106261.0     3.413124      0.759521    0.07    2.85   \n",
       "\n",
       "                        50%      75%         max  \n",
       "weight_ct              0.51     1.00       18.91  \n",
       "length_width_ratio     1.01     1.01        1.04  \n",
       "price               1387.00  4579.00  2641889.00  \n",
       "depth                 62.30    62.80       67.80  \n",
       "table                 58.00    59.00       69.00  \n",
       "length                 5.13     6.21        9.99  \n",
       "width                  5.12     6.22        9.99  \n",
       "height                 3.19     3.92        9.80  "
      ]
     },
     "execution_count": 9,
     "metadata": {},
     "output_type": "execute_result"
    }
   ],
   "source": [
    "round_diamonds.describe().T"
   ]
  },
  {
   "cell_type": "code",
   "execution_count": 10,
   "metadata": {
    "id": "MOWXsYvW-bb2"
   },
   "outputs": [],
   "source": [
    "small_round_diamonds = round_diamonds[round_diamonds['weight_ct']<2.5]"
   ]
  },
  {
   "cell_type": "code",
   "execution_count": 11,
   "metadata": {
    "colab": {
     "base_uri": "https://localhost:8080/",
     "height": 295
    },
    "id": "mxfqpH7N-m2l",
    "outputId": "0db6dee7-b72b-4bef-fdce-1186613ab311"
   },
   "outputs": [
    {
     "data": {
      "text/html": [
       "<div>\n",
       "<style scoped>\n",
       "    .dataframe tbody tr th:only-of-type {\n",
       "        vertical-align: middle;\n",
       "    }\n",
       "\n",
       "    .dataframe tbody tr th {\n",
       "        vertical-align: top;\n",
       "    }\n",
       "\n",
       "    .dataframe thead th {\n",
       "        text-align: right;\n",
       "    }\n",
       "</style>\n",
       "<table border=\"1\" class=\"dataframe\">\n",
       "  <thead>\n",
       "    <tr style=\"text-align: right;\">\n",
       "      <th></th>\n",
       "      <th>count</th>\n",
       "      <th>mean</th>\n",
       "      <th>std</th>\n",
       "      <th>min</th>\n",
       "      <th>25%</th>\n",
       "      <th>50%</th>\n",
       "      <th>75%</th>\n",
       "      <th>max</th>\n",
       "    </tr>\n",
       "  </thead>\n",
       "  <tbody>\n",
       "    <tr>\n",
       "      <th>weight_ct</th>\n",
       "      <td>103474.0</td>\n",
       "      <td>0.665357</td>\n",
       "      <td>0.408362</td>\n",
       "      <td>0.23</td>\n",
       "      <td>0.37</td>\n",
       "      <td>0.50</td>\n",
       "      <td>0.91</td>\n",
       "      <td>2.49</td>\n",
       "    </tr>\n",
       "    <tr>\n",
       "      <th>length_width_ratio</th>\n",
       "      <td>103474.0</td>\n",
       "      <td>1.006993</td>\n",
       "      <td>0.005148</td>\n",
       "      <td>1.00</td>\n",
       "      <td>1.00</td>\n",
       "      <td>1.01</td>\n",
       "      <td>1.01</td>\n",
       "      <td>1.04</td>\n",
       "    </tr>\n",
       "    <tr>\n",
       "      <th>price</th>\n",
       "      <td>103474.0</td>\n",
       "      <td>3389.960348</td>\n",
       "      <td>5069.245541</td>\n",
       "      <td>282.00</td>\n",
       "      <td>697.00</td>\n",
       "      <td>1351.00</td>\n",
       "      <td>4084.00</td>\n",
       "      <td>93344.00</td>\n",
       "    </tr>\n",
       "    <tr>\n",
       "      <th>depth</th>\n",
       "      <td>103474.0</td>\n",
       "      <td>62.187928</td>\n",
       "      <td>1.526250</td>\n",
       "      <td>4.00</td>\n",
       "      <td>61.40</td>\n",
       "      <td>62.30</td>\n",
       "      <td>62.90</td>\n",
       "      <td>67.80</td>\n",
       "    </tr>\n",
       "    <tr>\n",
       "      <th>table</th>\n",
       "      <td>103474.0</td>\n",
       "      <td>57.944665</td>\n",
       "      <td>2.054015</td>\n",
       "      <td>5.00</td>\n",
       "      <td>56.00</td>\n",
       "      <td>58.00</td>\n",
       "      <td>59.00</td>\n",
       "      <td>69.00</td>\n",
       "    </tr>\n",
       "    <tr>\n",
       "      <th>length</th>\n",
       "      <td>103474.0</td>\n",
       "      <td>5.378811</td>\n",
       "      <td>1.006781</td>\n",
       "      <td>3.77</td>\n",
       "      <td>4.57</td>\n",
       "      <td>5.12</td>\n",
       "      <td>6.15</td>\n",
       "      <td>8.91</td>\n",
       "    </tr>\n",
       "    <tr>\n",
       "      <th>width</th>\n",
       "      <td>103474.0</td>\n",
       "      <td>5.373572</td>\n",
       "      <td>1.010088</td>\n",
       "      <td>3.75</td>\n",
       "      <td>4.56</td>\n",
       "      <td>5.11</td>\n",
       "      <td>6.15</td>\n",
       "      <td>8.97</td>\n",
       "    </tr>\n",
       "    <tr>\n",
       "      <th>height</th>\n",
       "      <td>103474.0</td>\n",
       "      <td>3.343923</td>\n",
       "      <td>0.631311</td>\n",
       "      <td>1.51</td>\n",
       "      <td>2.83</td>\n",
       "      <td>3.19</td>\n",
       "      <td>3.87</td>\n",
       "      <td>5.40</td>\n",
       "    </tr>\n",
       "  </tbody>\n",
       "</table>\n",
       "</div>"
      ],
      "text/plain": [
       "                       count         mean          std     min     25%  \\\n",
       "weight_ct           103474.0     0.665357     0.408362    0.23    0.37   \n",
       "length_width_ratio  103474.0     1.006993     0.005148    1.00    1.00   \n",
       "price               103474.0  3389.960348  5069.245541  282.00  697.00   \n",
       "depth               103474.0    62.187928     1.526250    4.00   61.40   \n",
       "table               103474.0    57.944665     2.054015    5.00   56.00   \n",
       "length              103474.0     5.378811     1.006781    3.77    4.57   \n",
       "width               103474.0     5.373572     1.010088    3.75    4.56   \n",
       "height              103474.0     3.343923     0.631311    1.51    2.83   \n",
       "\n",
       "                        50%      75%       max  \n",
       "weight_ct              0.50     0.91      2.49  \n",
       "length_width_ratio     1.01     1.01      1.04  \n",
       "price               1351.00  4084.00  93344.00  \n",
       "depth                 62.30    62.90     67.80  \n",
       "table                 58.00    59.00     69.00  \n",
       "length                 5.12     6.15      8.91  \n",
       "width                  5.11     6.15      8.97  \n",
       "height                 3.19     3.87      5.40  "
      ]
     },
     "execution_count": 11,
     "metadata": {},
     "output_type": "execute_result"
    }
   ],
   "source": [
    "small_round_diamonds.describe().T"
   ]
  },
  {
   "cell_type": "code",
   "execution_count": 12,
   "metadata": {
    "colab": {
     "base_uri": "https://localhost:8080/",
     "height": 391
    },
    "id": "y9k1LHVV9Vqb",
    "outputId": "48f45b7a-ad59-4121-ec70-c34a42ca480a"
   },
   "outputs": [
    {
     "data": {
      "text/plain": [
       "<seaborn.axisgrid.PairGrid at 0x29bb159cd60>"
      ]
     },
     "execution_count": 12,
     "metadata": {},
     "output_type": "execute_result"
    },
    {
     "data": {
      "image/png": "[encoded data removed]",
      "text/plain": [
       "<Figure size 360x360 with 6 Axes>"
      ]
     },
     "metadata": {
      "needs_background": "light"
     },
     "output_type": "display_data"
    }
   ],
   "source": [
    "sns.pairplot(small_round_diamonds[['weight_ct','price']].sample(frac=.1))"
   ]
  },
  {
   "cell_type": "code",
   "execution_count": 13,
   "metadata": {
    "id": "mkdk5HQl-yBN"
   },
   "outputs": [],
   "source": [
    "train_score = small_round_diamonds.append(score, ignore_index=True)"
   ]
  },
  {
   "cell_type": "code",
   "execution_count": 14,
   "metadata": {
    "id": "KmXl-qyS_Pe7"
   },
   "outputs": [],
   "source": [
    "train_score_transformed = pd.get_dummies(train_score, drop_first=True)"
   ]
  },
  {
   "cell_type": "code",
   "execution_count": 15,
   "metadata": {
    "id": "8IO00W89_7sD"
   },
   "outputs": [],
   "source": [
    "train_transformed = train_score_transformed.iloc[:-10,:]\n",
    "score_transformed = train_score_transformed.iloc[-10:,:]\n"
   ]
  },
  {
   "cell_type": "code",
   "execution_count": 16,
   "metadata": {
    "colab": {
     "base_uri": "https://localhost:8080/"
    },
    "id": "qs6FQdqIARP9",
    "outputId": "3575964f-9be9-4901-92a4-d2e921ee912a"
   },
   "outputs": [
    {
     "name": "stdout",
     "output_type": "stream",
     "text": [
      "Train shape:  (103474, 108)\n",
      "Score shape:  (10, 108)\n"
     ]
    }
   ],
   "source": [
    "print('Train shape: ', train_transformed.shape)\n",
    "print('Score shape: ', score_transformed.shape)"
   ]
  },
  {
   "cell_type": "code",
   "execution_count": 17,
   "metadata": {
    "id": "bQ622ZvjBjLm"
   },
   "outputs": [],
   "source": [
    "X = train_transformed.drop(['price'], axis=1)\n",
    "y = train_transformed['price']\n",
    "\n",
    "X_train, X_test, y_train, y_test = train_test_split(X, y, test_size=0.3, random_state=1)"
   ]
  },
  {
   "cell_type": "code",
   "execution_count": 18,
   "metadata": {
    "id": "2bORO7YrBdZ2"
   },
   "outputs": [],
   "source": [
    "diamond_price_model = LinearRegression()"
   ]
  },
  {
   "cell_type": "code",
   "execution_count": 19,
   "metadata": {
    "colab": {
     "base_uri": "https://localhost:8080/"
    },
    "id": "y09j_h2qC4f2",
    "outputId": "94c04b83-e607-4104-a333-81e520895e4b"
   },
   "outputs": [
    {
     "data": {
      "text/plain": [
       "LinearRegression()"
      ]
     },
     "execution_count": 19,
     "metadata": {},
     "output_type": "execute_result"
    }
   ],
   "source": [
    "diamond_price_model.fit(X_train,y_train)"
   ]
  },
  {
   "cell_type": "code",
   "execution_count": 21,
   "metadata": {
    "id": "HLLmiDxuDHjb"
   },
   "outputs": [],
   "source": [
    "y_pred = diamond_price_model.predict(X_test)"
   ]
  },
  {
   "cell_type": "code",
   "execution_count": 22,
   "metadata": {},
   "outputs": [
    {
     "data": {
      "text/plain": [
       "array([-468.99757494, 3297.51897502,  325.26414631, ..., 1944.35902648,\n",
       "       1812.59623117, 1705.95119683])"
      ]
     },
     "execution_count": 22,
     "metadata": {},
     "output_type": "execute_result"
    }
   ],
   "source": [
    "y_pred"
   ]
  },
  {
   "cell_type": "code",
   "execution_count": 108,
   "metadata": {
    "colab": {
     "base_uri": "https://localhost:8080/"
    },
    "id": "JWurcH2QDEt0",
    "outputId": "676ec453-5502-4f1e-fe1d-9e4a335cf455"
   },
   "outputs": [
    {
     "name": "stdout",
     "output_type": "stream",
     "text": [
      "Regression model performance evaluation\n",
      "R2:  0.8764524296505681\n",
      "MAE:  877.4066368844816\n",
      "RMSE:  1745.0999213751807\n",
      "Max error:  64556.311950280506\n"
     ]
    }
   ],
   "source": [
    "print('Regression model performance evaluation')\n",
    "print('R2: ', r2_score(y_test, y_pred))\n",
    "print('MAE: ', mean_absolute_error(y_test, y_pred))\n",
    "print('RMSE: ', math.sqrt(mean_squared_error(y_test, y_pred)))\n",
    "print('Max error: ', max_error(y_test, y_pred))"
   ]
  },
  {
   "cell_type": "code",
   "execution_count": 112,
   "metadata": {
    "id": "YeF_8hxuDXvN"
   },
   "outputs": [],
   "source": [
    "y_score = diamond_price_model.predict(score_transformed.drop(['price'], axis=1))\n",
    "\n",
    "results = score_transformed.copy()\n",
    "results['predicted_price'] = y_score\n",
    "\n",
    "results['assessment'] = np.where(results['price'] > results['predicted_price'], 'undervalued', 'overvalued')\n"
   ]
  },
  {
   "cell_type": "code",
   "execution_count": 113,
   "metadata": {
    "colab": {
     "base_uri": "https://localhost:8080/",
     "height": 357
    },
    "id": "Kz_oaIySHf92",
    "outputId": "2b80c459-683f-4063-ecd0-b97be8578b33"
   },
   "outputs": [
    {
     "data": {
      "text/html": [
       "<div>\n",
       "<style scoped>\n",
       "    .dataframe tbody tr th:only-of-type {\n",
       "        vertical-align: middle;\n",
       "    }\n",
       "\n",
       "    .dataframe tbody tr th {\n",
       "        vertical-align: top;\n",
       "    }\n",
       "\n",
       "    .dataframe thead th {\n",
       "        text-align: right;\n",
       "    }\n",
       "</style>\n",
       "<table border=\"1\" class=\"dataframe\">\n",
       "  <thead>\n",
       "    <tr style=\"text-align: right;\">\n",
       "      <th></th>\n",
       "      <th>price</th>\n",
       "      <th>predicted_price</th>\n",
       "      <th>assessment</th>\n",
       "    </tr>\n",
       "  </thead>\n",
       "  <tbody>\n",
       "    <tr>\n",
       "      <th>103474</th>\n",
       "      <td>2311</td>\n",
       "      <td>2741.213287</td>\n",
       "      <td>overvalued</td>\n",
       "    </tr>\n",
       "    <tr>\n",
       "      <th>103475</th>\n",
       "      <td>3985</td>\n",
       "      <td>4238.990145</td>\n",
       "      <td>overvalued</td>\n",
       "    </tr>\n",
       "    <tr>\n",
       "      <th>103476</th>\n",
       "      <td>5935</td>\n",
       "      <td>5165.555347</td>\n",
       "      <td>undervalued</td>\n",
       "    </tr>\n",
       "    <tr>\n",
       "      <th>103477</th>\n",
       "      <td>578</td>\n",
       "      <td>488.315822</td>\n",
       "      <td>undervalued</td>\n",
       "    </tr>\n",
       "    <tr>\n",
       "      <th>103478</th>\n",
       "      <td>7195</td>\n",
       "      <td>23258.853118</td>\n",
       "      <td>overvalued</td>\n",
       "    </tr>\n",
       "    <tr>\n",
       "      <th>103479</th>\n",
       "      <td>8942</td>\n",
       "      <td>11515.077865</td>\n",
       "      <td>overvalued</td>\n",
       "    </tr>\n",
       "    <tr>\n",
       "      <th>103480</th>\n",
       "      <td>486</td>\n",
       "      <td>5162.774245</td>\n",
       "      <td>overvalued</td>\n",
       "    </tr>\n",
       "    <tr>\n",
       "      <th>103481</th>\n",
       "      <td>483</td>\n",
       "      <td>232.310527</td>\n",
       "      <td>undervalued</td>\n",
       "    </tr>\n",
       "    <tr>\n",
       "      <th>103482</th>\n",
       "      <td>514</td>\n",
       "      <td>343.996395</td>\n",
       "      <td>undervalued</td>\n",
       "    </tr>\n",
       "    <tr>\n",
       "      <th>103483</th>\n",
       "      <td>6725</td>\n",
       "      <td>6831.289734</td>\n",
       "      <td>overvalued</td>\n",
       "    </tr>\n",
       "  </tbody>\n",
       "</table>\n",
       "</div>"
      ],
      "text/plain": [
       "        price  predicted_price   assessment\n",
       "103474   2311      2741.213287   overvalued\n",
       "103475   3985      4238.990145   overvalued\n",
       "103476   5935      5165.555347  undervalued\n",
       "103477    578       488.315822  undervalued\n",
       "103478   7195     23258.853118   overvalued\n",
       "103479   8942     11515.077865   overvalued\n",
       "103480    486      5162.774245   overvalued\n",
       "103481    483       232.310527  undervalued\n",
       "103482    514       343.996395  undervalued\n",
       "103483   6725      6831.289734   overvalued"
      ]
     },
     "execution_count": 113,
     "metadata": {},
     "output_type": "execute_result"
    }
   ],
   "source": [
    "results[['price','predicted_price','assessment']]"
   ]
  }
 ],
 "metadata": {
  "colab": {
   "name": "diamonds.ipynb",
   "provenance": []
  },
  "kernelspec": {
   "display_name": "Python 3",
   "language": "python",
   "name": "python3"
  },
  "language_info": {
   "codemirror_mode": {
    "name": "ipython",
    "version": 3
   },
   "file_extension": ".py",
   "mimetype": "text/x-python",
   "name": "python",
   "nbconvert_exporter": "python",
   "pygments_lexer": "ipython3",
   "version": "3.8.8"
  }
 },
 "nbformat": 4,
 "nbformat_minor": 1
}
